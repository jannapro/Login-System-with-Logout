{
  "nbformat": 4,
  "nbformat_minor": 0,
  "metadata": {
    "colab": {
      "provenance": []
    },
    "kernelspec": {
      "name": "python3",
      "display_name": "Python 3"
    },
    "language_info": {
      "name": "python"
    }
  },
  "cells": [
    {
      "cell_type": "code",
      "execution_count": null,
      "metadata": {
        "colab": {
          "base_uri": "https://localhost:8080/"
        },
        "id": "6IpV1SOAzZwn",
        "outputId": "504a2743-e2a8-49f9-9244-6353c2a6646c"
      },
      "outputs": [
        {
          "output_type": "stream",
          "name": "stdout",
          "text": [
            "Enter your username: Jannat\n",
            "Correct✅\n",
            "Enter your password: lkjxxaskx\n",
            "Wrong❌\n",
            "Enter your username: sjhdj\n",
            "Wrong❌! Try again\n",
            "Enter your username: hhjachs\n",
            "Wrong❌! Try again\n",
            "You are Loged out!👉\n"
          ]
        }
      ],
      "source": [
        "attempts = 3\n",
        "username = \"Jannat\"\n",
        "userpassword = \"Python123\"\n",
        "while True:\n",
        "  user = input(\"Enter your username: \")\n",
        "  if user == username:\n",
        "    print(\"Correct✅\")\n",
        "    user2 = input(\"Enter your password: \")\n",
        "    if user2 == userpassword:\n",
        "      print(\"Login Sucseesfully\")\n",
        "      break\n",
        "    else:\n",
        "      print(\"Wrong❌\")\n",
        "      attempts -= 1\n",
        "  else:\n",
        "    print(\"Wrong❌! Try again\")\n",
        "    attempts -= 1\n",
        "  if attempts == 0:\n",
        "    print(\"You are Loged out!👉\")\n",
        "    break"
      ]
    }
  ]
}